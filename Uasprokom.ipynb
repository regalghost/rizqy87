{
 "cells": [
  {
   "cell_type": "code",
   "execution_count": 155,
   "metadata": {},
   "outputs": [],
   "source": [
    "import pandas as pd\n",
    "import json\n",
    "import matplotlib.pyplot as plt\n",
    "import ast\n",
    "import time\n"
   ]
  },
  {
   "cell_type": "code",
   "execution_count": 103,
   "metadata": {},
   "outputs": [
    {
     "name": "stdout",
     "output_type": "stream",
     "text": [
      "     kode_negara  tahun   produksi\n",
      "0            AUS   1971  14226.194\n",
      "1            AUS   1972  15029.094\n",
      "2            AUS   1973  18720.577\n",
      "3            AUS   1974  18498.696\n",
      "4            AUS   1975  19736.070\n",
      "...          ...    ...        ...\n",
      "5834         ZWE   2011      0.000\n",
      "5835         ZWE   2012      0.000\n",
      "5836         ZWE   2013      0.000\n",
      "5837         ZWE   2014      0.000\n",
      "5838         ZWE   2015      0.000\n",
      "\n",
      "[5839 rows x 3 columns]\n"
     ]
    }
   ],
   "source": [
    "file_json = open('kode_negara_lengkap.json')\n",
    "data_json = json.load(file_json)\n",
    "excell = pd.read_csv('produksi_minyak_mentah.csv')\n",
    "print(excell)"
   ]
  },
  {
   "cell_type": "code",
   "execution_count": 48,
   "metadata": {},
   "outputs": [
    {
     "name": "stdout",
     "output_type": "stream",
     "text": [
      "AUS\n"
     ]
    }
   ],
   "source": [
    "data_excel = pd.DataFrame(excell)\n",
    "print(data_excel.kode_negara[1])\n"
   ]
  },
  {
   "cell_type": "code",
   "execution_count": 49,
   "metadata": {},
   "outputs": [],
   "source": [
    "nama_negara_untuk_selectbox = []\n",
    "selectboxnama = []\n",
    "\n",
    "for i in range(len(data_excel.kode_negara)):\n",
    "    for nama in data_json:\n",
    "        if nama['alpha-3'] in data_excel.kode_negara[i]:\n",
    "            nama_negara_untuk_selectbox.append(nama['name'])\n",
    "\n",
    "for i in range(0, len(nama_negara_untuk_selectbox)):\n",
    "    count = 1                                   #untuk setiap i pada range 0 sampai panjang list nama_negara_untuk_selectbox nilai count = 1\n",
    "\n",
    "    for j in range(i+1, len(nama_negara_untuk_selectbox)):            #looping j dengan range i+1 sebagai list yang satu kali lebih besar urutannya dari i\n",
    "        if(nama_negara_untuk_selectbox[i] == (nama_negara_untuk_selectbox[j])):             #jika pada nama_negara_untuk_selectbox ke-i sama dengan nama_negara_untuk_selectbox ke-j dengan j = i+1 atau kata setelah i\n",
    "            count = count + 1                   #maka nilai count akan bertambah 1\n",
    "            nama_negara_untuk_selectbox[j] ='taksama'                  #dan perlu dioutputkan sebuah string pada nama_negara_untuk_selectbox looping j kedalam list agar menghindari pengulangan kata yang sudah terdeteksi sama \n",
    "                \n",
    "    if(count > 1 and nama_negara_untuk_selectbox[i] != 'taksama'):   #jika count > 1 artinya ada count bertambah dan terjadi kesamaan huruf di nama_negara_untuk_selectbox i = nama_negara_untuk_selectbox j\n",
    "                                                    #dan nama_negara_untuk_selectbox[i] tidak sama dengan taksama\n",
    "        selectboxnama.append(nama_negara_untuk_selectbox[i])\n",
    "\n",
    "\n",
    "            \n"
   ]
  },
  {
   "cell_type": "code",
   "execution_count": 44,
   "metadata": {},
   "outputs": [
    {
     "ename": "ValueError",
     "evalue": "can only convert an array of size 1 to a Python scalar",
     "output_type": "error",
     "traceback": [
      "\u001b[1;31m---------------------------------------------------------------------------\u001b[0m",
      "\u001b[1;31mValueError\u001b[0m                                Traceback (most recent call last)",
      "\u001b[1;32m~\\AppData\\Local\\Temp/ipykernel_43216/2932881247.py\u001b[0m in \u001b[0;36m<module>\u001b[1;34m\u001b[0m\n\u001b[0;32m      5\u001b[0m \u001b[1;33m\u001b[0m\u001b[0m\n\u001b[0;32m      6\u001b[0m \u001b[1;32mfor\u001b[0m \u001b[0mtiap_produksi\u001b[0m \u001b[1;32min\u001b[0m \u001b[0mproduksi_terbanyak\u001b[0m\u001b[1;33m:\u001b[0m\u001b[1;33m\u001b[0m\u001b[1;33m\u001b[0m\u001b[0m\n\u001b[1;32m----> 7\u001b[1;33m     \u001b[0mnegara_produksi_terbanyak\u001b[0m \u001b[1;33m=\u001b[0m \u001b[0mdata_excel\u001b[0m\u001b[1;33m[\u001b[0m\u001b[1;33m(\u001b[0m\u001b[0mdata_excel\u001b[0m\u001b[1;33m.\u001b[0m\u001b[0mtahun\u001b[0m \u001b[1;33m==\u001b[0m \u001b[0mtahun\u001b[0m\u001b[1;33m)\u001b[0m \u001b[1;33m&\u001b[0m \u001b[1;33m(\u001b[0m\u001b[0mdata_excel\u001b[0m\u001b[1;33m.\u001b[0m\u001b[0mproduksi\u001b[0m \u001b[1;33m==\u001b[0m \u001b[0mtiap_produksi\u001b[0m\u001b[1;33m)\u001b[0m\u001b[1;33m]\u001b[0m\u001b[1;33m.\u001b[0m\u001b[0mkode_negara\u001b[0m\u001b[1;33m.\u001b[0m\u001b[0mitem\u001b[0m\u001b[1;33m(\u001b[0m\u001b[1;33m)\u001b[0m\u001b[1;33m\u001b[0m\u001b[1;33m\u001b[0m\u001b[0m\n\u001b[0m\u001b[0;32m      8\u001b[0m \u001b[1;33m\u001b[0m\u001b[0m\n\u001b[0;32m      9\u001b[0m \u001b[1;33m\u001b[0m\u001b[0m\n",
      "\u001b[1;32m~\\AppData\\Roaming\\Python\\Python39\\site-packages\\pandas\\core\\base.py\u001b[0m in \u001b[0;36mitem\u001b[1;34m(self)\u001b[0m\n\u001b[0;32m    329\u001b[0m         \u001b[1;32mif\u001b[0m \u001b[0mlen\u001b[0m\u001b[1;33m(\u001b[0m\u001b[0mself\u001b[0m\u001b[1;33m)\u001b[0m \u001b[1;33m==\u001b[0m \u001b[1;36m1\u001b[0m\u001b[1;33m:\u001b[0m\u001b[1;33m\u001b[0m\u001b[1;33m\u001b[0m\u001b[0m\n\u001b[0;32m    330\u001b[0m             \u001b[1;32mreturn\u001b[0m \u001b[0mnext\u001b[0m\u001b[1;33m(\u001b[0m\u001b[0miter\u001b[0m\u001b[1;33m(\u001b[0m\u001b[0mself\u001b[0m\u001b[1;33m)\u001b[0m\u001b[1;33m)\u001b[0m\u001b[1;33m\u001b[0m\u001b[1;33m\u001b[0m\u001b[0m\n\u001b[1;32m--> 331\u001b[1;33m         \u001b[1;32mraise\u001b[0m \u001b[0mValueError\u001b[0m\u001b[1;33m(\u001b[0m\u001b[1;34m\"can only convert an array of size 1 to a Python scalar\"\u001b[0m\u001b[1;33m)\u001b[0m\u001b[1;33m\u001b[0m\u001b[1;33m\u001b[0m\u001b[0m\n\u001b[0m\u001b[0;32m    332\u001b[0m \u001b[1;33m\u001b[0m\u001b[0m\n\u001b[0;32m    333\u001b[0m     \u001b[1;33m@\u001b[0m\u001b[0mproperty\u001b[0m\u001b[1;33m\u001b[0m\u001b[1;33m\u001b[0m\u001b[0m\n",
      "\u001b[1;31mValueError\u001b[0m: can only convert an array of size 1 to a Python scalar"
     ]
    }
   ],
   "source": [
    "tahun = 2000\n",
    "banyaknegara = 9\n",
    "negara = []\n",
    "produksi_terbanyak = data_excel[data_excel.tahun == tahun].produksi.sort_values(ascending = False)[:banyaknegara].values\n",
    "\n",
    "for tiap_produksi in produksi_terbanyak:\n",
    "    negara_produksi_terbanyak = data_excel[(data_excel.tahun == tahun) & (data_excel.produksi == tiap_produksi)].kode_negara.item()\n",
    "    \n",
    "for tiapkode in data_json:\n",
    "    if negara_produksi_terbanyak not in tiapkode['alpha-3']:\n",
    "        False"
   ]
  },
  {
   "cell_type": "code",
   "execution_count": 192,
   "metadata": {},
   "outputs": [
    {
     "name": "stdout",
     "output_type": "stream",
     "text": [
      "[3001764.258 1181055.955  817578.305  388003.681  256642.276  191904.331\n",
      "  149050.468  140789.373  140119.774  139999.714]\n",
      "['United States of America', 'Saudi Arabia', 'Iran (Islamic Republic of)', 'Mexico', 'China', 'Iraq']\n",
      "None\n"
     ]
    }
   ],
   "source": [
    "def ubah_kode_ke_nama(kode_negara):\n",
    "    for tiap_negara in data_json:\n",
    "        if tiap_negara['alpha-3'] == kode_negara:\n",
    "            negara.append(tiap_negara['name'])\n",
    "\n",
    "tahun = 1989\n",
    "\n",
    "negara = []\n",
    "banyaknegara = 10\n",
    "\n",
    "            \n",
    "\n",
    "produksi_terbanyak = data_excel[data_excel.tahun == tahun].produksi.sort_values(ascending = False)[:banyaknegara].values \n",
    "\n",
    "print(produksi_terbanyak)\n",
    "\n",
    "\n",
    "for tiap_produksi in produksi_terbanyak:\n",
    "    negara_produksi_terbanyak = data_excel[(data_excel.tahun == tahun) & (data_excel.produksi == tiap_produksi)].kode_negara.item()\n",
    "    nama_negara_sebenarnya = ubah_kode_ke_nama(negara_produksi_terbanyak)\n",
    "\n",
    "print(negara)\n",
    "\n",
    "\n",
    "\n",
    "kode = []\n",
    "def ubah_nama_ke_kode(nama_negara):\n",
    "    for tiap_kode in data_json:\n",
    "        if tiap_kode['name'] == nama_negara:\n",
    "            kode.append(tiap_kode['alpha-3'])\n",
    "\n",
    "print(ubah_nama_ke_kode('Indonesia'))"
   ]
  },
  {
   "cell_type": "code",
   "execution_count": 114,
   "metadata": {},
   "outputs": [
    {
     "data": {
      "text/plain": [
       "[<matplotlib.lines.Line2D at 0x2929daf1190>]"
      ]
     },
     "execution_count": 114,
     "metadata": {},
     "output_type": "execute_result"
    },
    {
     "data": {
      "image/png": "[encoded data removed]",
      "text/plain": [
       "<Figure size 432x288 with 1 Axes>"
      ]
     },
     "metadata": {
      "needs_background": "light"
     },
     "output_type": "display_data"
    }
   ],
   "source": [
    "nama_negara = \"Indonesia\"\n",
    "\n",
    "for tiap_kode in data_json:\n",
    "    if nama_negara == tiap_kode['name']:\n",
    "        kode = tiap_kode['alpha-3']\n",
    "\n",
    "data_plot_nama = dict()\n",
    "\n",
    "produksi_terbanyak_berdasarkan_nama = data_excel[data_excel.kode_negara == kode].produksi\n",
    "\n",
    "datatahun = data_excel[data_excel.kode_negara == kode].tahun\n",
    "\n",
    "\n",
    "dataprod = produksi_terbanyak_berdasarkan_nama.to_frame()\n",
    "data_tahun = datatahun.to_frame()\n",
    "\n",
    "plt.plot(data_tahun, dataprod)"
   ]
  },
  {
   "cell_type": "code",
   "execution_count": null,
   "metadata": {},
   "outputs": [],
   "source": [
    "\n",
    "\n"
   ]
  },
  {
   "cell_type": "code",
   "execution_count": 56,
   "metadata": {},
   "outputs": [
    {
     "name": "stderr",
     "output_type": "stream",
     "text": [
      "C:\\Users\\Lenovo\\AppData\\Local\\Temp/ipykernel_43216/384838932.py:8: SettingWithCopyWarning: \n",
      "A value is trying to be set on a copy of a slice from a DataFrame\n",
      "\n",
      "See the caveats in the documentation: https://pandas.pydata.org/pandas-docs/stable/user_guide/indexing.html#returning-a-view-versus-a-copy\n",
      "  data_excel.kode_negara[tiap_prod] ='taksama'                  #dan perlu dioutputkan sebuah string pada data_excel.kode_negara looping j kedalam list agar menghindari pengulangan kata yang sudah terdeteksi sama\n"
     ]
    },
    {
     "ename": "KeyboardInterrupt",
     "evalue": "",
     "output_type": "error",
     "traceback": [
      "\u001b[1;31m---------------------------------------------------------------------------\u001b[0m",
      "\u001b[1;31mKeyboardInterrupt\u001b[0m                         Traceback (most recent call last)",
      "\u001b[1;32m~\\AppData\\Local\\Temp/ipykernel_43216/384838932.py\u001b[0m in \u001b[0;36m<module>\u001b[1;34m\u001b[0m\n\u001b[0;32m      2\u001b[0m     \u001b[0mJumlah\u001b[0m \u001b[1;33m=\u001b[0m \u001b[1;36m0\u001b[0m\u001b[1;33m\u001b[0m\u001b[1;33m\u001b[0m\u001b[0m\n\u001b[0;32m      3\u001b[0m     \u001b[1;32mfor\u001b[0m \u001b[0mtiap_prod\u001b[0m \u001b[1;32min\u001b[0m \u001b[0mrange\u001b[0m\u001b[1;33m(\u001b[0m\u001b[0mtiap_produksi_di_suatu_negara\u001b[0m \u001b[1;33m+\u001b[0m \u001b[1;36m1\u001b[0m\u001b[1;33m,\u001b[0m \u001b[0mlen\u001b[0m\u001b[1;33m(\u001b[0m\u001b[0mdata_excel\u001b[0m\u001b[1;33m.\u001b[0m\u001b[0mkode_negara\u001b[0m\u001b[1;33m)\u001b[0m\u001b[1;33m)\u001b[0m\u001b[1;33m:\u001b[0m\u001b[1;33m\u001b[0m\u001b[1;33m\u001b[0m\u001b[0m\n\u001b[1;32m----> 4\u001b[1;33m         \u001b[1;32mif\u001b[0m \u001b[0mdata_excel\u001b[0m\u001b[1;33m.\u001b[0m\u001b[0mkode_negara\u001b[0m\u001b[1;33m[\u001b[0m\u001b[0mtiap_produksi_di_suatu_negara\u001b[0m\u001b[1;33m]\u001b[0m \u001b[1;33m==\u001b[0m \u001b[0mdata_excel\u001b[0m\u001b[1;33m.\u001b[0m\u001b[0mkode_negara\u001b[0m\u001b[1;33m[\u001b[0m\u001b[0mtiap_prod\u001b[0m\u001b[1;33m]\u001b[0m\u001b[1;33m:\u001b[0m\u001b[1;33m\u001b[0m\u001b[1;33m\u001b[0m\u001b[0m\n\u001b[0m\u001b[0;32m      5\u001b[0m             \u001b[0mJumlah\u001b[0m \u001b[1;33m=\u001b[0m \u001b[0mdata_excel\u001b[0m\u001b[1;33m.\u001b[0m\u001b[0mproduksi\u001b[0m\u001b[1;33m.\u001b[0m\u001b[0msum\u001b[0m\u001b[1;33m(\u001b[0m\u001b[1;33m)\u001b[0m\u001b[1;33m\u001b[0m\u001b[1;33m\u001b[0m\u001b[0m\n\u001b[0;32m      6\u001b[0m \u001b[1;33m\u001b[0m\u001b[0m\n",
      "\u001b[1;32m~\\AppData\\Roaming\\Python\\Python39\\site-packages\\pandas\\core\\series.py\u001b[0m in \u001b[0;36m__getitem__\u001b[1;34m(self, key)\u001b[0m\n\u001b[0;32m    940\u001b[0m \u001b[1;33m\u001b[0m\u001b[0m\n\u001b[0;32m    941\u001b[0m         \u001b[1;32melif\u001b[0m \u001b[0mkey_is_scalar\u001b[0m\u001b[1;33m:\u001b[0m\u001b[1;33m\u001b[0m\u001b[1;33m\u001b[0m\u001b[0m\n\u001b[1;32m--> 942\u001b[1;33m             \u001b[1;32mreturn\u001b[0m \u001b[0mself\u001b[0m\u001b[1;33m.\u001b[0m\u001b[0m_get_value\u001b[0m\u001b[1;33m(\u001b[0m\u001b[0mkey\u001b[0m\u001b[1;33m)\u001b[0m\u001b[1;33m\u001b[0m\u001b[1;33m\u001b[0m\u001b[0m\n\u001b[0m\u001b[0;32m    943\u001b[0m \u001b[1;33m\u001b[0m\u001b[0m\n\u001b[0;32m    944\u001b[0m         \u001b[1;32mif\u001b[0m \u001b[0mis_hashable\u001b[0m\u001b[1;33m(\u001b[0m\u001b[0mkey\u001b[0m\u001b[1;33m)\u001b[0m\u001b[1;33m:\u001b[0m\u001b[1;33m\u001b[0m\u001b[1;33m\u001b[0m\u001b[0m\n",
      "\u001b[1;32m~\\AppData\\Roaming\\Python\\Python39\\site-packages\\pandas\\core\\series.py\u001b[0m in \u001b[0;36m_get_value\u001b[1;34m(self, label, takeable)\u001b[0m\n\u001b[0;32m   1049\u001b[0m \u001b[1;33m\u001b[0m\u001b[0m\n\u001b[0;32m   1050\u001b[0m         \u001b[1;31m# Similar to Index.get_value, but we do not fall back to positional\u001b[0m\u001b[1;33m\u001b[0m\u001b[1;33m\u001b[0m\u001b[1;33m\u001b[0m\u001b[0m\n\u001b[1;32m-> 1051\u001b[1;33m         \u001b[0mloc\u001b[0m \u001b[1;33m=\u001b[0m \u001b[0mself\u001b[0m\u001b[1;33m.\u001b[0m\u001b[0mindex\u001b[0m\u001b[1;33m.\u001b[0m\u001b[0mget_loc\u001b[0m\u001b[1;33m(\u001b[0m\u001b[0mlabel\u001b[0m\u001b[1;33m)\u001b[0m\u001b[1;33m\u001b[0m\u001b[1;33m\u001b[0m\u001b[0m\n\u001b[0m\u001b[0;32m   1052\u001b[0m         \u001b[1;32mreturn\u001b[0m \u001b[0mself\u001b[0m\u001b[1;33m.\u001b[0m\u001b[0mindex\u001b[0m\u001b[1;33m.\u001b[0m\u001b[0m_get_values_for_loc\u001b[0m\u001b[1;33m(\u001b[0m\u001b[0mself\u001b[0m\u001b[1;33m,\u001b[0m \u001b[0mloc\u001b[0m\u001b[1;33m,\u001b[0m \u001b[0mlabel\u001b[0m\u001b[1;33m)\u001b[0m\u001b[1;33m\u001b[0m\u001b[1;33m\u001b[0m\u001b[0m\n\u001b[0;32m   1053\u001b[0m \u001b[1;33m\u001b[0m\u001b[0m\n",
      "\u001b[1;31mKeyboardInterrupt\u001b[0m: "
     ]
    }
   ],
   "source": [
    "\n",
    "\n",
    "for tiap_produksi_di_suatu_negara in range(len(data_excel.kode_negara)):\n",
    "    Jumlah = 0\n",
    "    for tiap_prod in range(tiap_produksi_di_suatu_negara + 1, len(data_excel.kode_negara)):\n",
    "        if data_excel.kode_negara[tiap_produksi_di_suatu_negara] == data_excel.kode_negara[tiap_prod]:\n",
    "            Jumlah = data_excel.produksi.sum()\n",
    "            \n",
    "\n",
    "            data_excel.kode_negara[tiap_prod] ='taksama'                  #dan perlu dioutputkan sebuah string pada data_excel.kode_negara looping j kedalam list agar menghindari pengulangan kata yang sudah terdeteksi sama \n",
    "                \n",
    "    if(count > 1 and data_excel.kode_negara[tiap_produksi_di_suatu_negara] != 'taksama'):   #jika count > 1 artinya ada count bertambah dan terjadi kesamaan huruf di data_excel.kode_negara tiap_produksi_di_suatu_negara = data_excel.kode_negara j\n",
    "                                                    #dan data_excel.kode_negara[tiap_produksi_di_suatu_negara] tidak sama dengan taksama\n",
    "        print(data_excel.kode_negara[tiap_produksi_di_suatu_negara], Jumlah)\n",
    "\n"
   ]
  },
  {
   "cell_type": "code",
   "execution_count": 94,
   "metadata": {},
   "outputs": [
    {
     "data": {
      "text/plain": [
       "<BarContainer object of 10 artists>"
      ]
     },
     "execution_count": 94,
     "metadata": {},
     "output_type": "execute_result"
    },
    {
     "data": {
      "image/png": "[encoded data removed]",
      "text/plain": [
       "<Figure size 432x288 with 1 Axes>"
      ]
     },
     "metadata": {
      "needs_background": "light"
     },
     "output_type": "display_data"
    }
   ],
   "source": [
    "\n",
    "banyaknegaratotal = 10\n",
    "jumlah_total = data_excel.groupby(['kode_negara']).sum().sort_values(by = 'produksi', ascending=False).produksi[:banyaknegaratotal].values\n",
    "\n",
    "jumlah_total_index_negara = data_excel.groupby(['kode_negara']).sum().sort_values(by = 'produksi', ascending=False).produksi[:banyaknegaratotal].index\n",
    "\n",
    "x_bar = jumlah_total_index_negara\n",
    "y_bar = jumlah_total\n",
    "\n",
    "plt.barh(x_bar, y_bar)"
   ]
  },
  {
   "cell_type": "code",
   "execution_count": 216,
   "metadata": {},
   "outputs": [
    {
     "name": "stdout",
     "output_type": "stream",
     "text": [
      "<class 'pandas.core.series.Series'>\n"
     ]
    },
    {
     "ename": "ValueError",
     "evalue": "('Lengths must match to compare', (5839,), (140,))",
     "output_type": "error",
     "traceback": [
      "\u001b[1;31m---------------------------------------------------------------------------\u001b[0m",
      "\u001b[1;31mValueError\u001b[0m                                Traceback (most recent call last)",
      "\u001b[1;32m~\\AppData\\Local\\Temp/ipykernel_43216/2874470143.py\u001b[0m in \u001b[0;36m<module>\u001b[1;34m\u001b[0m\n\u001b[0;32m     16\u001b[0m \u001b[1;33m\u001b[0m\u001b[0m\n\u001b[0;32m     17\u001b[0m \u001b[0mproduksi_terbanyakelite\u001b[0m \u001b[1;33m=\u001b[0m \u001b[0mdata_excel2\u001b[0m\u001b[1;33m[\u001b[0m\u001b[0mdata_excel2\u001b[0m\u001b[1;33m.\u001b[0m\u001b[0mtahun\u001b[0m \u001b[1;33m==\u001b[0m \u001b[0mtahunelite\u001b[0m\u001b[1;33m]\u001b[0m\u001b[1;33m.\u001b[0m\u001b[0mproduksi\u001b[0m\u001b[1;33m.\u001b[0m\u001b[0msort_values\u001b[0m\u001b[1;33m(\u001b[0m\u001b[0mascending\u001b[0m \u001b[1;33m=\u001b[0m \u001b[1;32mFalse\u001b[0m\u001b[1;33m)\u001b[0m\u001b[1;33m.\u001b[0m\u001b[0mvalues\u001b[0m\u001b[1;33m\u001b[0m\u001b[1;33m\u001b[0m\u001b[0m\n\u001b[1;32m---> 18\u001b[1;33m \u001b[0mnama_ko\u001b[0m \u001b[1;33m=\u001b[0m \u001b[0mdata_excel2\u001b[0m\u001b[1;33m[\u001b[0m\u001b[0mdata_excel2\u001b[0m\u001b[1;33m.\u001b[0m\u001b[0mproduksi\u001b[0m \u001b[1;33m==\u001b[0m \u001b[0mproduksi_terbanyakelite\u001b[0m\u001b[1;33m]\u001b[0m\u001b[1;33m.\u001b[0m\u001b[0mkode_negara\u001b[0m\u001b[1;33m\u001b[0m\u001b[1;33m\u001b[0m\u001b[0m\n\u001b[0m\u001b[0;32m     19\u001b[0m \u001b[1;33m\u001b[0m\u001b[0m\n\u001b[0;32m     20\u001b[0m \u001b[0mprint\u001b[0m\u001b[1;33m(\u001b[0m\u001b[0mproduksi_terbanyakelite\u001b[0m\u001b[1;33m)\u001b[0m\u001b[1;33m\u001b[0m\u001b[1;33m\u001b[0m\u001b[0m\n",
      "\u001b[1;32m~\\AppData\\Roaming\\Python\\Python39\\site-packages\\pandas\\core\\ops\\common.py\u001b[0m in \u001b[0;36mnew_method\u001b[1;34m(self, other)\u001b[0m\n\u001b[0;32m     67\u001b[0m         \u001b[0mother\u001b[0m \u001b[1;33m=\u001b[0m \u001b[0mitem_from_zerodim\u001b[0m\u001b[1;33m(\u001b[0m\u001b[0mother\u001b[0m\u001b[1;33m)\u001b[0m\u001b[1;33m\u001b[0m\u001b[1;33m\u001b[0m\u001b[0m\n\u001b[0;32m     68\u001b[0m \u001b[1;33m\u001b[0m\u001b[0m\n\u001b[1;32m---> 69\u001b[1;33m         \u001b[1;32mreturn\u001b[0m \u001b[0mmethod\u001b[0m\u001b[1;33m(\u001b[0m\u001b[0mself\u001b[0m\u001b[1;33m,\u001b[0m \u001b[0mother\u001b[0m\u001b[1;33m)\u001b[0m\u001b[1;33m\u001b[0m\u001b[1;33m\u001b[0m\u001b[0m\n\u001b[0m\u001b[0;32m     70\u001b[0m \u001b[1;33m\u001b[0m\u001b[0m\n\u001b[0;32m     71\u001b[0m     \u001b[1;32mreturn\u001b[0m \u001b[0mnew_method\u001b[0m\u001b[1;33m\u001b[0m\u001b[1;33m\u001b[0m\u001b[0m\n",
      "\u001b[1;32m~\\AppData\\Roaming\\Python\\Python39\\site-packages\\pandas\\core\\arraylike.py\u001b[0m in \u001b[0;36m__eq__\u001b[1;34m(self, other)\u001b[0m\n\u001b[0;32m     30\u001b[0m     \u001b[1;33m@\u001b[0m\u001b[0munpack_zerodim_and_defer\u001b[0m\u001b[1;33m(\u001b[0m\u001b[1;34m\"__eq__\"\u001b[0m\u001b[1;33m)\u001b[0m\u001b[1;33m\u001b[0m\u001b[1;33m\u001b[0m\u001b[0m\n\u001b[0;32m     31\u001b[0m     \u001b[1;32mdef\u001b[0m \u001b[0m__eq__\u001b[0m\u001b[1;33m(\u001b[0m\u001b[0mself\u001b[0m\u001b[1;33m,\u001b[0m \u001b[0mother\u001b[0m\u001b[1;33m)\u001b[0m\u001b[1;33m:\u001b[0m\u001b[1;33m\u001b[0m\u001b[1;33m\u001b[0m\u001b[0m\n\u001b[1;32m---> 32\u001b[1;33m         \u001b[1;32mreturn\u001b[0m \u001b[0mself\u001b[0m\u001b[1;33m.\u001b[0m\u001b[0m_cmp_method\u001b[0m\u001b[1;33m(\u001b[0m\u001b[0mother\u001b[0m\u001b[1;33m,\u001b[0m \u001b[0moperator\u001b[0m\u001b[1;33m.\u001b[0m\u001b[0meq\u001b[0m\u001b[1;33m)\u001b[0m\u001b[1;33m\u001b[0m\u001b[1;33m\u001b[0m\u001b[0m\n\u001b[0m\u001b[0;32m     33\u001b[0m \u001b[1;33m\u001b[0m\u001b[0m\n\u001b[0;32m     34\u001b[0m     \u001b[1;33m@\u001b[0m\u001b[0munpack_zerodim_and_defer\u001b[0m\u001b[1;33m(\u001b[0m\u001b[1;34m\"__ne__\"\u001b[0m\u001b[1;33m)\u001b[0m\u001b[1;33m\u001b[0m\u001b[1;33m\u001b[0m\u001b[0m\n",
      "\u001b[1;32m~\\AppData\\Roaming\\Python\\Python39\\site-packages\\pandas\\core\\series.py\u001b[0m in \u001b[0;36m_cmp_method\u001b[1;34m(self, other, op)\u001b[0m\n\u001b[0;32m   5500\u001b[0m \u001b[1;33m\u001b[0m\u001b[0m\n\u001b[0;32m   5501\u001b[0m         \u001b[1;32mwith\u001b[0m \u001b[0mnp\u001b[0m\u001b[1;33m.\u001b[0m\u001b[0merrstate\u001b[0m\u001b[1;33m(\u001b[0m\u001b[0mall\u001b[0m\u001b[1;33m=\u001b[0m\u001b[1;34m\"ignore\"\u001b[0m\u001b[1;33m)\u001b[0m\u001b[1;33m:\u001b[0m\u001b[1;33m\u001b[0m\u001b[1;33m\u001b[0m\u001b[0m\n\u001b[1;32m-> 5502\u001b[1;33m             \u001b[0mres_values\u001b[0m \u001b[1;33m=\u001b[0m \u001b[0mops\u001b[0m\u001b[1;33m.\u001b[0m\u001b[0mcomparison_op\u001b[0m\u001b[1;33m(\u001b[0m\u001b[0mlvalues\u001b[0m\u001b[1;33m,\u001b[0m \u001b[0mrvalues\u001b[0m\u001b[1;33m,\u001b[0m \u001b[0mop\u001b[0m\u001b[1;33m)\u001b[0m\u001b[1;33m\u001b[0m\u001b[1;33m\u001b[0m\u001b[0m\n\u001b[0m\u001b[0;32m   5503\u001b[0m \u001b[1;33m\u001b[0m\u001b[0m\n\u001b[0;32m   5504\u001b[0m         \u001b[1;32mreturn\u001b[0m \u001b[0mself\u001b[0m\u001b[1;33m.\u001b[0m\u001b[0m_construct_result\u001b[0m\u001b[1;33m(\u001b[0m\u001b[0mres_values\u001b[0m\u001b[1;33m,\u001b[0m \u001b[0mname\u001b[0m\u001b[1;33m=\u001b[0m\u001b[0mres_name\u001b[0m\u001b[1;33m)\u001b[0m\u001b[1;33m\u001b[0m\u001b[1;33m\u001b[0m\u001b[0m\n",
      "\u001b[1;32m~\\AppData\\Roaming\\Python\\Python39\\site-packages\\pandas\\core\\ops\\array_ops.py\u001b[0m in \u001b[0;36mcomparison_op\u001b[1;34m(left, right, op)\u001b[0m\n\u001b[0;32m    259\u001b[0m         \u001b[1;31m#  The ambiguous case is object-dtype.  See GH#27803\u001b[0m\u001b[1;33m\u001b[0m\u001b[1;33m\u001b[0m\u001b[1;33m\u001b[0m\u001b[0m\n\u001b[0;32m    260\u001b[0m         \u001b[1;32mif\u001b[0m \u001b[0mlen\u001b[0m\u001b[1;33m(\u001b[0m\u001b[0mlvalues\u001b[0m\u001b[1;33m)\u001b[0m \u001b[1;33m!=\u001b[0m \u001b[0mlen\u001b[0m\u001b[1;33m(\u001b[0m\u001b[0mrvalues\u001b[0m\u001b[1;33m)\u001b[0m\u001b[1;33m:\u001b[0m\u001b[1;33m\u001b[0m\u001b[1;33m\u001b[0m\u001b[0m\n\u001b[1;32m--> 261\u001b[1;33m             raise ValueError(\n\u001b[0m\u001b[0;32m    262\u001b[0m                 \u001b[1;34m\"Lengths must match to compare\"\u001b[0m\u001b[1;33m,\u001b[0m \u001b[0mlvalues\u001b[0m\u001b[1;33m.\u001b[0m\u001b[0mshape\u001b[0m\u001b[1;33m,\u001b[0m \u001b[0mrvalues\u001b[0m\u001b[1;33m.\u001b[0m\u001b[0mshape\u001b[0m\u001b[1;33m\u001b[0m\u001b[1;33m\u001b[0m\u001b[0m\n\u001b[0;32m    263\u001b[0m             )\n",
      "\u001b[1;31mValueError\u001b[0m: ('Lengths must match to compare', (5839,), (140,))"
     ]
    }
   ],
   "source": [
    "df = pd.read_json('kode_negara_lengkap.json')\n",
    "bn = pd. DataFrame(df)\n",
    "new_data = pd.DataFrame.from_records(bn)\n",
    "\n",
    "data_excel2 = pd.DataFrame(excell)\n",
    "\n",
    "new_data_1 = new_data['name']\n",
    "new_data_2 = new_data['alpha-3']\n",
    "new_data_3 = new_data['region']\n",
    "new_data_4 = new_data['sub-region']\n",
    "print(type(new_data_1))\n",
    "\n",
    "\n",
    "tahunelite = 1999\n",
    "\n",
    "\n",
    "produksi_terbanyakelite = data_excel2[data_excel2.tahun == tahunelite].produksi.sort_values(ascending = False).values\n",
    "nama_ko = data_excel2[data_excel2.produksi == produksi_terbanyakelite].kode_negara \n",
    "\n",
    "print(produksi_terbanyakelite)\n"
   ]
  },
  {
   "cell_type": "code",
   "execution_count": 193,
   "metadata": {},
   "outputs": [
    {
     "name": "stdout",
     "output_type": "stream",
     "text": [
      "None\n",
      "None\n",
      "None\n",
      "None\n",
      "None\n",
      "None\n",
      "None\n",
      "None\n",
      "None\n",
      "None\n",
      "None\n",
      "None\n",
      "None\n",
      "None\n",
      "None\n",
      "None\n",
      "None\n",
      "None\n",
      "None\n",
      "None\n",
      "None\n",
      "None\n",
      "None\n",
      "None\n",
      "None\n",
      "None\n",
      "None\n",
      "None\n",
      "None\n",
      "None\n",
      "None\n",
      "None\n",
      "None\n",
      "None\n",
      "None\n",
      "None\n",
      "None\n",
      "None\n",
      "None\n",
      "None\n",
      "None\n",
      "None\n",
      "None\n",
      "None\n",
      "None\n",
      "None\n",
      "None\n",
      "None\n",
      "None\n",
      "None\n",
      "None\n",
      "None\n",
      "None\n",
      "None\n",
      "None\n",
      "None\n",
      "None\n",
      "None\n",
      "None\n",
      "None\n",
      "None\n",
      "None\n",
      "None\n",
      "None\n",
      "None\n",
      "None\n",
      "None\n",
      "None\n",
      "None\n",
      "None\n",
      "None\n",
      "None\n",
      "None\n",
      "None\n",
      "None\n",
      "None\n",
      "None\n",
      "None\n",
      "None\n",
      "None\n",
      "None\n",
      "None\n",
      "None\n",
      "None\n",
      "None\n",
      "None\n",
      "None\n",
      "None\n",
      "None\n",
      "None\n",
      "None\n",
      "None\n",
      "None\n",
      "None\n",
      "None\n",
      "None\n",
      "None\n",
      "None\n",
      "None\n",
      "None\n",
      "None\n",
      "None\n",
      "None\n",
      "None\n",
      "None\n",
      "None\n",
      "None\n",
      "None\n",
      "None\n",
      "None\n",
      "None\n",
      "None\n",
      "None\n",
      "None\n",
      "None\n",
      "None\n",
      "None\n",
      "None\n",
      "None\n",
      "None\n",
      "None\n",
      "None\n",
      "None\n",
      "None\n",
      "None\n",
      "None\n",
      "None\n",
      "None\n"
     ]
    }
   ],
   "source": [
    "nama_negara_untuk_selectbox = []\n",
    "selectboxnama = []\n",
    "\n",
    "for i in range(len(data_excel.kode_negara)):\n",
    "    for nama in data_json:\n",
    "        if nama['alpha-3'] in data_excel.kode_negara[i]:\n",
    "            nama_negara_untuk_selectbox.append(nama['name'])\n",
    "\n",
    "for i in range(0, len(nama_negara_untuk_selectbox)):\n",
    "    count = 1                                   #untuk setiap i pada range 0 sampai panjang list nama_negara_untuk_selectbox nilai count = 1\n",
    "\n",
    "    for j in range(i+1, len(nama_negara_untuk_selectbox)):            #looping j dengan range i+1 sebagai list yang satu kali lebih besar urutannya dari i\n",
    "        if(nama_negara_untuk_selectbox[i] == (nama_negara_untuk_selectbox[j])):             #jika pada nama_negara_untuk_selectbox ke-i sama dengan nama_negara_untuk_selectbox ke-j dengan j = i+1 atau kata setelah i\n",
    "            count = count + 1                   #maka nilai count akan bertambah 1\n",
    "            nama_negara_untuk_selectbox[j] ='taksama'                  #dan perlu dioutputkan sebuah string pada nama_negara_untuk_selectbox looping j kedalam list agar menghindari pengulangan kata yang sudah terdeteksi sama \n",
    "                \n",
    "    if(count > 1 and nama_negara_untuk_selectbox[i] != 'taksama'):   #jika count > 1 artinya ada count bertambah dan terjadi kesamaan huruf di nama_negara_untuk_selectbox i = nama_negara_untuk_selectbox j\n",
    "                                                    #dan nama_negara_untuk_selectbox[i] tidak sama dengan taksama\n",
    "      \n",
    "      \n",
    "        selectboxnama.append(nama_negara_untuk_selectbox[i])\n",
    "\n",
    "\n",
    "\n",
    "kode = []\n",
    "for nama_negara in selectboxnama:\n",
    "    nama_kode = ubah_nama_ke_kode(nama_negara)\n",
    "    print(nama_kode)\n",
    "            \n"
   ]
  }
 ],
 "metadata": {
  "interpreter": {
   "hash": "fe06f96167c4fc64a78c238d993189072a4e72b444216e36203d6f96126eaf0a"
  },
  "kernelspec": {
   "display_name": "Python 3.9.6 64-bit",
   "language": "python",
   "name": "python3"
  },
  "language_info": {
   "codemirror_mode": {
    "name": "ipython",
    "version": 3
   },
   "file_extension": ".py",
   "mimetype": "text/x-python",
   "name": "python",
   "nbconvert_exporter": "python",
   "pygments_lexer": "ipython3",
   "version": "3.9.6"
  },
  "orig_nbformat": 4
 },
 "nbformat": 4,
 "nbformat_minor": 2
}
